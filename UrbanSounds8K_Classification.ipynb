{
  "cells": [
    {
      "cell_type": "markdown",
      "metadata": {
        "id": "view-in-github",
        "colab_type": "text"
      },
      "source": [
        "<a href=\"https://colab.research.google.com/github/SonKayyum/UrbanSoundsClassification/blob/main/UrbanSounds8K_Classification.ipynb\" target=\"_parent\"><img src=\"https://colab.research.google.com/assets/colab-badge.svg\" alt=\"Open In Colab\"/></a>"
      ]
    },
    {
      "cell_type": "code",
      "execution_count": 1,
      "metadata": {
        "id": "iMqktwLnZC-N"
      },
      "outputs": [],
      "source": [
        "import pandas as pd\n",
        "import numpy as np\n",
        "import tensorflow as tf\n",
        "import librosa\n",
        "import librosa.display\n",
        "import matplotlib.pyplot as plt\n",
        "import cv2\n",
        "import random\n",
        "import time\n",
        "import os"
      ]
    },
    {
      "cell_type": "code",
      "execution_count": 4,
      "metadata": {
        "colab": {
          "base_uri": "https://localhost:8080/"
        },
        "id": "m3Er50JAZtyK",
        "outputId": "64ffbaae-7f12-482c-e7cb-68fdf28d46ed"
      },
      "outputs": [
        {
          "output_type": "stream",
          "name": "stdout",
          "text": [
            "Mounted at /content/drive\n"
          ]
        }
      ],
      "source": [
        "from google.colab import drive\n",
        "drive.mount('/content/drive')"
      ]
    },
    {
      "cell_type": "code",
      "source": [
        "#Drive'dan veri çekiyoruz ve bağlantıyı kontrol etmek için deneme bir .csv çektik."
      ],
      "metadata": {
        "id": "tifIln__D-We"
      },
      "execution_count": null,
      "outputs": []
    },
    {
      "cell_type": "code",
      "execution_count": 5,
      "metadata": {
        "colab": {
          "base_uri": "https://localhost:8080/",
          "height": 206
        },
        "id": "vJuz__XYissf",
        "outputId": "c397d1c2-31f0-4e65-bb46-df559eee5f3d"
      },
      "outputs": [
        {
          "output_type": "execute_result",
          "data": {
            "text/plain": [
              "      slice_file_name    fsID  start        end  salience  fold  classID  \\\n",
              "0    100032-3-0-0.wav  100032    0.0   0.317551         1     5        3   \n",
              "1  100263-2-0-117.wav  100263   58.5  62.500000         1     5        2   \n",
              "2  100263-2-0-121.wav  100263   60.5  64.500000         1     5        2   \n",
              "3  100263-2-0-126.wav  100263   63.0  67.000000         1     5        2   \n",
              "4  100263-2-0-137.wav  100263   68.5  72.500000         1     5        2   \n",
              "\n",
              "              class  \n",
              "0          dog_bark  \n",
              "1  children_playing  \n",
              "2  children_playing  \n",
              "3  children_playing  \n",
              "4  children_playing  "
            ],
            "text/html": [
              "\n",
              "  <div id=\"df-a2dba86c-228c-4011-a0ff-7336d13a77ae\">\n",
              "    <div class=\"colab-df-container\">\n",
              "      <div>\n",
              "<style scoped>\n",
              "    .dataframe tbody tr th:only-of-type {\n",
              "        vertical-align: middle;\n",
              "    }\n",
              "\n",
              "    .dataframe tbody tr th {\n",
              "        vertical-align: top;\n",
              "    }\n",
              "\n",
              "    .dataframe thead th {\n",
              "        text-align: right;\n",
              "    }\n",
              "</style>\n",
              "<table border=\"1\" class=\"dataframe\">\n",
              "  <thead>\n",
              "    <tr style=\"text-align: right;\">\n",
              "      <th></th>\n",
              "      <th>slice_file_name</th>\n",
              "      <th>fsID</th>\n",
              "      <th>start</th>\n",
              "      <th>end</th>\n",
              "      <th>salience</th>\n",
              "      <th>fold</th>\n",
              "      <th>classID</th>\n",
              "      <th>class</th>\n",
              "    </tr>\n",
              "  </thead>\n",
              "  <tbody>\n",
              "    <tr>\n",
              "      <th>0</th>\n",
              "      <td>100032-3-0-0.wav</td>\n",
              "      <td>100032</td>\n",
              "      <td>0.0</td>\n",
              "      <td>0.317551</td>\n",
              "      <td>1</td>\n",
              "      <td>5</td>\n",
              "      <td>3</td>\n",
              "      <td>dog_bark</td>\n",
              "    </tr>\n",
              "    <tr>\n",
              "      <th>1</th>\n",
              "      <td>100263-2-0-117.wav</td>\n",
              "      <td>100263</td>\n",
              "      <td>58.5</td>\n",
              "      <td>62.500000</td>\n",
              "      <td>1</td>\n",
              "      <td>5</td>\n",
              "      <td>2</td>\n",
              "      <td>children_playing</td>\n",
              "    </tr>\n",
              "    <tr>\n",
              "      <th>2</th>\n",
              "      <td>100263-2-0-121.wav</td>\n",
              "      <td>100263</td>\n",
              "      <td>60.5</td>\n",
              "      <td>64.500000</td>\n",
              "      <td>1</td>\n",
              "      <td>5</td>\n",
              "      <td>2</td>\n",
              "      <td>children_playing</td>\n",
              "    </tr>\n",
              "    <tr>\n",
              "      <th>3</th>\n",
              "      <td>100263-2-0-126.wav</td>\n",
              "      <td>100263</td>\n",
              "      <td>63.0</td>\n",
              "      <td>67.000000</td>\n",
              "      <td>1</td>\n",
              "      <td>5</td>\n",
              "      <td>2</td>\n",
              "      <td>children_playing</td>\n",
              "    </tr>\n",
              "    <tr>\n",
              "      <th>4</th>\n",
              "      <td>100263-2-0-137.wav</td>\n",
              "      <td>100263</td>\n",
              "      <td>68.5</td>\n",
              "      <td>72.500000</td>\n",
              "      <td>1</td>\n",
              "      <td>5</td>\n",
              "      <td>2</td>\n",
              "      <td>children_playing</td>\n",
              "    </tr>\n",
              "  </tbody>\n",
              "</table>\n",
              "</div>\n",
              "      <button class=\"colab-df-convert\" onclick=\"convertToInteractive('df-a2dba86c-228c-4011-a0ff-7336d13a77ae')\"\n",
              "              title=\"Convert this dataframe to an interactive table.\"\n",
              "              style=\"display:none;\">\n",
              "        \n",
              "  <svg xmlns=\"http://www.w3.org/2000/svg\" height=\"24px\"viewBox=\"0 0 24 24\"\n",
              "       width=\"24px\">\n",
              "    <path d=\"M0 0h24v24H0V0z\" fill=\"none\"/>\n",
              "    <path d=\"M18.56 5.44l.94 2.06.94-2.06 2.06-.94-2.06-.94-.94-2.06-.94 2.06-2.06.94zm-11 1L8.5 8.5l.94-2.06 2.06-.94-2.06-.94L8.5 2.5l-.94 2.06-2.06.94zm10 10l.94 2.06.94-2.06 2.06-.94-2.06-.94-.94-2.06-.94 2.06-2.06.94z\"/><path d=\"M17.41 7.96l-1.37-1.37c-.4-.4-.92-.59-1.43-.59-.52 0-1.04.2-1.43.59L10.3 9.45l-7.72 7.72c-.78.78-.78 2.05 0 2.83L4 21.41c.39.39.9.59 1.41.59.51 0 1.02-.2 1.41-.59l7.78-7.78 2.81-2.81c.8-.78.8-2.07 0-2.86zM5.41 20L4 18.59l7.72-7.72 1.47 1.35L5.41 20z\"/>\n",
              "  </svg>\n",
              "      </button>\n",
              "      \n",
              "  <style>\n",
              "    .colab-df-container {\n",
              "      display:flex;\n",
              "      flex-wrap:wrap;\n",
              "      gap: 12px;\n",
              "    }\n",
              "\n",
              "    .colab-df-convert {\n",
              "      background-color: #E8F0FE;\n",
              "      border: none;\n",
              "      border-radius: 50%;\n",
              "      cursor: pointer;\n",
              "      display: none;\n",
              "      fill: #1967D2;\n",
              "      height: 32px;\n",
              "      padding: 0 0 0 0;\n",
              "      width: 32px;\n",
              "    }\n",
              "\n",
              "    .colab-df-convert:hover {\n",
              "      background-color: #E2EBFA;\n",
              "      box-shadow: 0px 1px 2px rgba(60, 64, 67, 0.3), 0px 1px 3px 1px rgba(60, 64, 67, 0.15);\n",
              "      fill: #174EA6;\n",
              "    }\n",
              "\n",
              "    [theme=dark] .colab-df-convert {\n",
              "      background-color: #3B4455;\n",
              "      fill: #D2E3FC;\n",
              "    }\n",
              "\n",
              "    [theme=dark] .colab-df-convert:hover {\n",
              "      background-color: #434B5C;\n",
              "      box-shadow: 0px 1px 3px 1px rgba(0, 0, 0, 0.15);\n",
              "      filter: drop-shadow(0px 1px 2px rgba(0, 0, 0, 0.3));\n",
              "      fill: #FFFFFF;\n",
              "    }\n",
              "  </style>\n",
              "\n",
              "      <script>\n",
              "        const buttonEl =\n",
              "          document.querySelector('#df-a2dba86c-228c-4011-a0ff-7336d13a77ae button.colab-df-convert');\n",
              "        buttonEl.style.display =\n",
              "          google.colab.kernel.accessAllowed ? 'block' : 'none';\n",
              "\n",
              "        async function convertToInteractive(key) {\n",
              "          const element = document.querySelector('#df-a2dba86c-228c-4011-a0ff-7336d13a77ae');\n",
              "          const dataTable =\n",
              "            await google.colab.kernel.invokeFunction('convertToInteractive',\n",
              "                                                     [key], {});\n",
              "          if (!dataTable) return;\n",
              "\n",
              "          const docLinkHtml = 'Like what you see? Visit the ' +\n",
              "            '<a target=\"_blank\" href=https://colab.research.google.com/notebooks/data_table.ipynb>data table notebook</a>'\n",
              "            + ' to learn more about interactive tables.';\n",
              "          element.innerHTML = '';\n",
              "          dataTable['output_type'] = 'display_data';\n",
              "          await google.colab.output.renderOutput(dataTable, element);\n",
              "          const docLink = document.createElement('div');\n",
              "          docLink.innerHTML = docLinkHtml;\n",
              "          element.appendChild(docLink);\n",
              "        }\n",
              "      </script>\n",
              "    </div>\n",
              "  </div>\n",
              "  "
            ]
          },
          "metadata": {},
          "execution_count": 5
        }
      ],
      "source": [
        "df = pd.read_csv('/content/drive/MyDrive/UrbanSound8K.csv')\n",
        "df.head()"
      ]
    },
    {
      "cell_type": "code",
      "source": [
        "#Proje kapsamında verilen spektrogramlar zip dosyasından çıkartılıyor."
      ],
      "metadata": {
        "id": "DTfbNq_oDzk7"
      },
      "execution_count": null,
      "outputs": []
    },
    {
      "cell_type": "code",
      "execution_count": null,
      "metadata": {
        "id": "MaExqDGoaLzT"
      },
      "outputs": [],
      "source": [
        " !unzip '/content/drive/MyDrive/spectrograms.zip'"
      ]
    },
    {
      "cell_type": "code",
      "source": [
        "#Bu kısım ön işleme kısmını oluşturmaktadır. Grayscale dönüşümü ve resizing yapıldı. Ardından listeye eklendiler. , X_train, y_train, X_val, y_val, X_test ve y_test olmak üzere veri setleri oluşturuldu. Veri setleri drive'a kaydedildi."
      ],
      "metadata": {
        "id": "Sb_U9GlmknoN"
      },
      "execution_count": null,
      "outputs": []
    },
    {
      "cell_type": "code",
      "execution_count": 7,
      "metadata": {
        "id": "j_zAkg6eacCZ"
      },
      "outputs": [],
      "source": [
        "imgs= []\n",
        "labels= []\n",
        "for etiket in range(10):\n",
        "  img_array=os.listdir(\"/content/spectrograms/\"+str(etiket))  \n",
        "\n",
        "  for img_iter in range(len(img_array)):\n",
        "    img_gray=cv2.imread(\"/content/spectrograms/\"+str(etiket)+\"/\"+img_array[img_iter],0)\n",
        "\n",
        "    resized_gray = cv2.resize(img_gray, (100, 100), interpolation = cv2.INTER_AREA)\n",
        "\n",
        "    normalized_gray=resized_gray/255\n",
        "    \n",
        "    imgs.append(normalized_gray)\n",
        "    labels.append(etiket)\n",
        "\n",
        "dict_ = list(zip(imgs, labels))\n",
        "random.seed(10)\n",
        "random.shuffle(dict_)\n",
        "imgs, labels = zip(*dict_)\n",
        "\n",
        "imgs=np.array(imgs)\n",
        "labels=np.array(labels)"
      ]
    },
    {
      "cell_type": "code",
      "execution_count": 8,
      "metadata": {
        "id": "PMCyCDZXcCit"
      },
      "outputs": [],
      "source": [
        "def train_valid_test(imgs, labels, train_percentage = 0.7, valid_percentage = 0.15):\n",
        "  size=len(imgs)\n",
        "\n",
        "  X_train=imgs[:int(train_percentage*size)]\n",
        "  X_val=imgs[int(train_percentage*size):int((train_percentage+valid_percentage)*size)]\n",
        "  X_test=imgs[int((train_percentage+valid_percentage)*size):]\n",
        "\n",
        "  y_train=labels[:int(train_percentage*size)]\n",
        "  y_val=labels[int(train_percentage*size):int((train_percentage+valid_percentage)*size)]\n",
        "  y_test=labels[int((train_percentage+valid_percentage)*size):]\n",
        "\n",
        "  return X_train, y_train, X_val, y_val, X_test, y_test"
      ]
    },
    {
      "cell_type": "code",
      "execution_count": 9,
      "metadata": {
        "id": "vBiOEatucHTM"
      },
      "outputs": [],
      "source": [
        "X_train, y_train, X_val, y_val, X_test, y_test= train_valid_test(imgs, labels)"
      ]
    },
    {
      "cell_type": "code",
      "execution_count": 10,
      "metadata": {
        "colab": {
          "base_uri": "https://localhost:8080/"
        },
        "id": "0v79xK3HcN6g",
        "outputId": "faff10c6-6d95-47f8-d5d3-8d3b6440f8a7"
      },
      "outputs": [
        {
          "output_type": "stream",
          "name": "stdout",
          "text": [
            "X_train: 6112\n",
            "X_val: 1310\n",
            "X_test: 1310\n",
            "y_train: 6112\n",
            "y_val: 1310\n",
            "y_test: 1310\n"
          ]
        }
      ],
      "source": [
        "print(f\"X_train: {len(X_train)}\")\n",
        "print(f\"X_val: {len(X_val)}\")\n",
        "print(f\"X_test: {len(X_test)}\")\n",
        "print(f\"y_train: {len(y_train)}\")\n",
        "print(f\"y_val: {len(y_val)}\")\n",
        "print(f\"y_test: {len(y_test)}\")"
      ]
    },
    {
      "cell_type": "code",
      "execution_count": 11,
      "metadata": {
        "id": "X40AwrlFfEv0"
      },
      "outputs": [],
      "source": [
        "np.save('/content/drive/MyDrive/X_train.npy', X_train)\n",
        "np.save('/content/drive/MyDrive/X_val.npy', X_val)\n",
        "np.save('/content/drive/MyDrive/X_test.npy', X_test)\n",
        "np.save('/content/drive/MyDrive/y_train.npy', y_train)\n",
        "np.save('/content/drive/MyDrive/y_val.npy', y_val)\n",
        "np.save('/content/drive/MyDrive/y_test.npy', y_test)"
      ]
    },
    {
      "cell_type": "code",
      "source": [
        "#Burada modelimizi oluşturuyoruz. Model eğitiliyor, performans metriklerini, loss ve accuracy oranlarını da yazdırdık. Plot çizerek şekillendirdik. "
      ],
      "metadata": {
        "id": "nwTOzBEyDUE9"
      },
      "execution_count": null,
      "outputs": []
    },
    {
      "cell_type": "code",
      "execution_count": 26,
      "metadata": {
        "id": "Q_g0ejrAcPUZ"
      },
      "outputs": [],
      "source": [
        "model=tf.keras.Sequential()\n",
        "model.add(tf.keras.layers.Conv2D(32,\n",
        "                                 kernel_size=(3,3),\n",
        "                                 strides=(1,1),\n",
        "                                 padding=\"valid\",\n",
        "                                 activation=\"relu\",\n",
        "                                 input_shape=(100,100,1))) \n",
        "model.add(tf.keras.layers.Conv2D(64,\n",
        "                                 kernel_size=(3,3),\n",
        "                                 strides=(1,1),\n",
        "                                 padding=\"valid\",\n",
        "                                 activation=\"relu\"))\n",
        "model.add(tf.keras.layers.MaxPool2D((2,2)))\n",
        "model.add(tf.keras.layers.Conv2D(128,\n",
        "                                 kernel_size=(3,3),\n",
        "                                 strides=(1,1),\n",
        "                                 padding=\"valid\",\n",
        "                                 activation=\"relu\"))\n",
        "model.add(tf.keras.layers.MaxPool2D((2,2)))\n",
        "\n",
        "model.add(tf.keras.layers.Flatten())\n",
        "model.add(tf.keras.layers.Dense(256, activation=\"relu\"))\n",
        "model.add(tf.keras.layers.Dropout(0.8))\n",
        "model.add(tf.keras.layers.Dense(512, activation=\"relu\"))\n",
        "model.add(tf.keras.layers.Dropout(0.8))\n",
        "model.add(tf.keras.layers.Dense(10, activation=\"softmax\"))"
      ]
    },
    {
      "cell_type": "code",
      "execution_count": 27,
      "metadata": {
        "id": "6cnLpDaPkGyL"
      },
      "outputs": [],
      "source": [
        "model.compile(optimizer=\"adam\",metrics=[\"accuracy\"], loss=\"sparse_categorical_crossentropy\")"
      ]
    },
    {
      "cell_type": "code",
      "execution_count": 28,
      "metadata": {
        "colab": {
          "base_uri": "https://localhost:8080/"
        },
        "id": "Qve8O5xMcfGi",
        "outputId": "be6209d7-cc68-4d0a-8f86-bb5a7708d5a3"
      },
      "outputs": [
        {
          "output_type": "stream",
          "name": "stdout",
          "text": [
            "Model: \"sequential_2\"\n",
            "_________________________________________________________________\n",
            " Layer (type)                Output Shape              Param #   \n",
            "=================================================================\n",
            " conv2d_6 (Conv2D)           (None, 98, 98, 32)        320       \n",
            "                                                                 \n",
            " conv2d_7 (Conv2D)           (None, 96, 96, 64)        18496     \n",
            "                                                                 \n",
            " max_pooling2d_4 (MaxPooling  (None, 48, 48, 64)       0         \n",
            " 2D)                                                             \n",
            "                                                                 \n",
            " conv2d_8 (Conv2D)           (None, 46, 46, 128)       73856     \n",
            "                                                                 \n",
            " max_pooling2d_5 (MaxPooling  (None, 23, 23, 128)      0         \n",
            " 2D)                                                             \n",
            "                                                                 \n",
            " flatten_2 (Flatten)         (None, 67712)             0         \n",
            "                                                                 \n",
            " dense_6 (Dense)             (None, 256)               17334528  \n",
            "                                                                 \n",
            " dropout_4 (Dropout)         (None, 256)               0         \n",
            "                                                                 \n",
            " dense_7 (Dense)             (None, 512)               131584    \n",
            "                                                                 \n",
            " dropout_5 (Dropout)         (None, 512)               0         \n",
            "                                                                 \n",
            " dense_8 (Dense)             (None, 10)                5130      \n",
            "                                                                 \n",
            "=================================================================\n",
            "Total params: 17,563,914\n",
            "Trainable params: 17,563,914\n",
            "Non-trainable params: 0\n",
            "_________________________________________________________________\n"
          ]
        }
      ],
      "source": [
        "model.summary()"
      ]
    },
    {
      "cell_type": "code",
      "execution_count": 29,
      "metadata": {
        "colab": {
          "base_uri": "https://localhost:8080/"
        },
        "id": "OAhqATixch9g",
        "outputId": "f3a3a9ac-5121-4cc6-80d2-61f83873dab7"
      },
      "outputs": [
        {
          "output_type": "stream",
          "name": "stdout",
          "text": [
            "Epoch 1/20\n",
            "24/24 [==============================] - 6s 225ms/step - loss: 2.2683 - accuracy: 0.1499 - val_loss: 2.1127 - val_accuracy: 0.2252\n",
            "Epoch 2/20\n",
            "24/24 [==============================] - 5s 218ms/step - loss: 2.0641 - accuracy: 0.2189 - val_loss: 1.8699 - val_accuracy: 0.3427\n",
            "Epoch 3/20\n",
            "24/24 [==============================] - 5s 219ms/step - loss: 1.9175 - accuracy: 0.2760 - val_loss: 1.7062 - val_accuracy: 0.4198\n",
            "Epoch 4/20\n",
            "24/24 [==============================] - 5s 230ms/step - loss: 1.7829 - accuracy: 0.3248 - val_loss: 1.4940 - val_accuracy: 0.4908\n",
            "Epoch 5/20\n",
            "24/24 [==============================] - 5s 219ms/step - loss: 1.6515 - accuracy: 0.3858 - val_loss: 1.3739 - val_accuracy: 0.5282\n",
            "Epoch 6/20\n",
            "24/24 [==============================] - 5s 221ms/step - loss: 1.5241 - accuracy: 0.4247 - val_loss: 1.2741 - val_accuracy: 0.5733\n",
            "Epoch 7/20\n",
            "24/24 [==============================] - 5s 221ms/step - loss: 1.4092 - accuracy: 0.4807 - val_loss: 1.1777 - val_accuracy: 0.6183\n",
            "Epoch 8/20\n",
            "24/24 [==============================] - 5s 222ms/step - loss: 1.3141 - accuracy: 0.5198 - val_loss: 1.0995 - val_accuracy: 0.6481\n",
            "Epoch 9/20\n",
            "24/24 [==============================] - 5s 221ms/step - loss: 1.2388 - accuracy: 0.5628 - val_loss: 0.9898 - val_accuracy: 0.7031\n",
            "Epoch 10/20\n",
            "24/24 [==============================] - 5s 219ms/step - loss: 1.1403 - accuracy: 0.5869 - val_loss: 0.9006 - val_accuracy: 0.7382\n",
            "Epoch 11/20\n",
            "24/24 [==============================] - 5s 220ms/step - loss: 1.0812 - accuracy: 0.6252 - val_loss: 0.8339 - val_accuracy: 0.7481\n",
            "Epoch 12/20\n",
            "24/24 [==============================] - 5s 219ms/step - loss: 1.0080 - accuracy: 0.6468 - val_loss: 0.8014 - val_accuracy: 0.7344\n",
            "Epoch 13/20\n",
            "24/24 [==============================] - 5s 219ms/step - loss: 0.9169 - accuracy: 0.6764 - val_loss: 0.7273 - val_accuracy: 0.8023\n",
            "Epoch 14/20\n",
            "24/24 [==============================] - 5s 219ms/step - loss: 0.8928 - accuracy: 0.6806 - val_loss: 0.6782 - val_accuracy: 0.8061\n",
            "Epoch 15/20\n",
            "24/24 [==============================] - 5s 221ms/step - loss: 0.8089 - accuracy: 0.7183 - val_loss: 0.6363 - val_accuracy: 0.8313\n",
            "Epoch 16/20\n",
            "24/24 [==============================] - 5s 229ms/step - loss: 0.7886 - accuracy: 0.7268 - val_loss: 0.6462 - val_accuracy: 0.8092\n",
            "Epoch 17/20\n",
            "24/24 [==============================] - 5s 220ms/step - loss: 0.7747 - accuracy: 0.7258 - val_loss: 0.6229 - val_accuracy: 0.8191\n",
            "Epoch 18/20\n",
            "24/24 [==============================] - 5s 220ms/step - loss: 0.6956 - accuracy: 0.7477 - val_loss: 0.5463 - val_accuracy: 0.8504\n",
            "Epoch 19/20\n",
            "24/24 [==============================] - 5s 219ms/step - loss: 0.6912 - accuracy: 0.7565 - val_loss: 0.5394 - val_accuracy: 0.8534\n",
            "Epoch 20/20\n",
            "24/24 [==============================] - 5s 230ms/step - loss: 0.6218 - accuracy: 0.7814 - val_loss: 0.5248 - val_accuracy: 0.8557\n"
          ]
        }
      ],
      "source": [
        "results=model.fit(X_train, y_train, batch_size=256, epochs=20, validation_data=(X_val, y_val))"
      ]
    },
    {
      "cell_type": "code",
      "execution_count": 32,
      "metadata": {
        "colab": {
          "base_uri": "https://localhost:8080/"
        },
        "id": "pBiwr2mtu-yF",
        "outputId": "7b6c8aef-668b-4837-815b-33306ec2d3fb"
      },
      "outputs": [
        {
          "output_type": "stream",
          "name": "stdout",
          "text": [
            "0.8656488656997681\n"
          ]
        }
      ],
      "source": [
        "test_accuracy=model.evaluate(X_test,y_test,verbose=0)\n",
        "print(test_accuracy[1])"
      ]
    },
    {
      "cell_type": "code",
      "execution_count": 33,
      "metadata": {
        "colab": {
          "base_uri": "https://localhost:8080/"
        },
        "id": "5thMbO1ssKps",
        "outputId": "3d9fb636-8527-4bf1-d5ea-944382a0d10a"
      },
      "outputs": [
        {
          "output_type": "stream",
          "name": "stdout",
          "text": [
            "[0.25198307633399963, 0.9379908442497253]\n",
            "[0.5215628147125244, 0.8656488656997681]\n"
          ]
        }
      ],
      "source": [
        "train_loss_score=model.evaluate(X_train,y_train,verbose=0)\n",
        "test_loss_score=model.evaluate(X_test,y_test,verbose=0)\n",
        "print(train_loss_score)\n",
        "print(test_loss_score)"
      ]
    },
    {
      "cell_type": "code",
      "execution_count": 34,
      "metadata": {
        "colab": {
          "base_uri": "https://localhost:8080/",
          "height": 334
        },
        "id": "ypJ83B9qng26",
        "outputId": "d35252e3-66ee-441c-8aaf-426716e1b1a0"
      },
      "outputs": [
        {
          "output_type": "display_data",
          "data": {
            "text/plain": [
              "<Figure size 720x360 with 1 Axes>"
            ],
            "image/png": "[encoded data removed]"
          },
          "metadata": {
            "needs_background": "light"
          }
        }
      ],
      "source": [
        "plt.figure(figsize=(10,5))\n",
        "plt.plot(results.history[\"loss\"], label=\"loss\")\n",
        "plt.plot(results.history[\"val_loss\"], label=\"val_loss\")\n",
        "plt.xlabel(\"Epochs\")\n",
        "plt.ylabel(\"Loss\")\n",
        "plt.legend()\n",
        "plt.show()"
      ]
    },
    {
      "cell_type": "code",
      "execution_count": 35,
      "metadata": {
        "colab": {
          "base_uri": "https://localhost:8080/",
          "height": 334
        },
        "id": "zTNwEgL3rckj",
        "outputId": "5d9357cc-4e83-4faa-876f-2a0745ed8d48"
      },
      "outputs": [
        {
          "output_type": "display_data",
          "data": {
            "text/plain": [
              "<Figure size 720x360 with 1 Axes>"
            ],
            "image/png": "[encoded data removed]"
          },
          "metadata": {
            "needs_background": "light"
          }
        }
      ],
      "source": [
        "plt.figure(figsize=(10,5))\n",
        "plt.plot(results.history[\"accuracy\"], label=\"accuracy\")\n",
        "plt.plot(results.history[\"val_accuracy\"], label=\"val_accuracy\")\n",
        "plt.xlabel(\"Epochs\")\n",
        "plt.ylabel(\"Accuracy\")\n",
        "plt.legend()\n",
        "plt.show()"
      ]
    },
    {
      "cell_type": "code",
      "execution_count": null,
      "metadata": {
        "id": "7uyw3cfyizd_"
      },
      "outputs": [],
      "source": [
        "#Daha iyi sonuçlar elde edebilmek için parametreleri değiştirip tekrar bir model kurduk."
      ]
    },
    {
      "cell_type": "code",
      "execution_count": 39,
      "metadata": {
        "id": "9V17hJhVjDE-"
      },
      "outputs": [],
      "source": [
        "model2=tf.keras.Sequential()\n",
        "model2.add(tf.keras.layers.Conv2D(32,\n",
        "                                 kernel_size=(3,3),\n",
        "                                 strides=(1,1),\n",
        "                                 padding=\"valid\",\n",
        "                                 activation=\"relu\",\n",
        "                                 input_shape=(100,100,1))) \n",
        "model2.add(tf.keras.layers.Conv2D(64,\n",
        "                                 kernel_size=(3,3),\n",
        "                                 strides=(1,1),\n",
        "                                 padding=\"valid\",\n",
        "                                 activation=\"relu\"))\n",
        "model2.add(tf.keras.layers.MaxPool2D((2,2)))\n",
        "model2.add(tf.keras.layers.Conv2D(128,\n",
        "                                 kernel_size=(3,3),\n",
        "                                 strides=(1,1),\n",
        "                                 padding=\"valid\",\n",
        "                                 activation=\"relu\"))\n",
        "model2.add(tf.keras.layers.MaxPool2D((2,2)))\n",
        "\n",
        "model2.add(tf.keras.layers.Flatten())\n",
        "model2.add(tf.keras.layers.Dense(128, activation=\"relu\"))\n",
        "model2.add(tf.keras.layers.Dropout(0.7))\n",
        "model2.add(tf.keras.layers.Dense(256, activation=\"relu\"))\n",
        "model2.add(tf.keras.layers.Dropout(0.7))\n",
        "model2.add(tf.keras.layers.Dense(10, activation=\"softmax\"))"
      ]
    },
    {
      "cell_type": "code",
      "execution_count": 40,
      "metadata": {
        "id": "JWiqSu88jDVA"
      },
      "outputs": [],
      "source": [
        "model2.compile(optimizer=\"adam\",metrics=[\"accuracy\"], loss=\"sparse_categorical_crossentropy\")"
      ]
    },
    {
      "cell_type": "code",
      "execution_count": 41,
      "metadata": {
        "colab": {
          "base_uri": "https://localhost:8080/"
        },
        "id": "-3-E4OHTkgAx",
        "outputId": "db32d4e5-84ea-423a-be24-c8c2cd541f5a"
      },
      "outputs": [
        {
          "output_type": "stream",
          "name": "stdout",
          "text": [
            "Epoch 1/20\n",
            "96/96 [==============================] - 7s 62ms/step - loss: 2.1213 - accuracy: 0.2053 - val_loss: 1.7616 - val_accuracy: 0.3534\n",
            "Epoch 2/20\n",
            "96/96 [==============================] - 6s 58ms/step - loss: 1.7733 - accuracy: 0.3420 - val_loss: 1.3991 - val_accuracy: 0.5450\n",
            "Epoch 3/20\n",
            "96/96 [==============================] - 6s 60ms/step - loss: 1.4810 - accuracy: 0.4643 - val_loss: 1.0803 - val_accuracy: 0.6947\n",
            "Epoch 4/20\n",
            "96/96 [==============================] - 6s 58ms/step - loss: 1.2606 - accuracy: 0.5494 - val_loss: 0.8929 - val_accuracy: 0.7550\n",
            "Epoch 5/20\n",
            "96/96 [==============================] - 6s 58ms/step - loss: 1.1423 - accuracy: 0.5910 - val_loss: 0.7169 - val_accuracy: 0.7733\n",
            "Epoch 6/20\n",
            "96/96 [==============================] - 6s 58ms/step - loss: 0.9934 - accuracy: 0.6522 - val_loss: 0.6672 - val_accuracy: 0.7947\n",
            "Epoch 7/20\n",
            "96/96 [==============================] - 6s 58ms/step - loss: 0.8874 - accuracy: 0.6880 - val_loss: 0.6383 - val_accuracy: 0.8153\n",
            "Epoch 8/20\n",
            "96/96 [==============================] - 6s 58ms/step - loss: 0.8326 - accuracy: 0.7078 - val_loss: 0.5734 - val_accuracy: 0.8252\n",
            "Epoch 9/20\n",
            "96/96 [==============================] - 6s 58ms/step - loss: 0.7479 - accuracy: 0.7381 - val_loss: 0.5008 - val_accuracy: 0.8511\n",
            "Epoch 10/20\n",
            "96/96 [==============================] - 6s 59ms/step - loss: 0.6951 - accuracy: 0.7543 - val_loss: 0.4998 - val_accuracy: 0.8542\n",
            "Epoch 11/20\n",
            "96/96 [==============================] - 6s 58ms/step - loss: 0.6464 - accuracy: 0.7672 - val_loss: 0.5427 - val_accuracy: 0.8389\n",
            "Epoch 12/20\n",
            "96/96 [==============================] - 6s 58ms/step - loss: 0.6171 - accuracy: 0.7884 - val_loss: 0.4858 - val_accuracy: 0.8511\n",
            "Epoch 13/20\n",
            "96/96 [==============================] - 5s 57ms/step - loss: 0.5718 - accuracy: 0.7974 - val_loss: 0.4804 - val_accuracy: 0.8634\n",
            "Epoch 14/20\n",
            "96/96 [==============================] - 6s 58ms/step - loss: 0.5473 - accuracy: 0.8079 - val_loss: 0.4566 - val_accuracy: 0.8702\n",
            "Epoch 15/20\n",
            "96/96 [==============================] - 6s 60ms/step - loss: 0.4977 - accuracy: 0.8223 - val_loss: 0.4596 - val_accuracy: 0.8641\n",
            "Epoch 16/20\n",
            "96/96 [==============================] - 6s 58ms/step - loss: 0.4723 - accuracy: 0.8298 - val_loss: 0.4086 - val_accuracy: 0.8840\n",
            "Epoch 17/20\n",
            "96/96 [==============================] - 6s 58ms/step - loss: 0.4866 - accuracy: 0.8277 - val_loss: 0.4072 - val_accuracy: 0.8863\n",
            "Epoch 18/20\n",
            "96/96 [==============================] - 6s 58ms/step - loss: 0.4511 - accuracy: 0.8343 - val_loss: 0.4069 - val_accuracy: 0.8809\n",
            "Epoch 19/20\n",
            "96/96 [==============================] - 6s 58ms/step - loss: 0.4400 - accuracy: 0.8406 - val_loss: 0.3860 - val_accuracy: 0.8855\n",
            "Epoch 20/20\n",
            "96/96 [==============================] - 6s 58ms/step - loss: 0.4059 - accuracy: 0.8509 - val_loss: 0.3857 - val_accuracy: 0.8893\n"
          ]
        }
      ],
      "source": [
        "results2=model2.fit(X_train, y_train, batch_size=64, epochs=20, validation_data=(X_val, y_val))"
      ]
    },
    {
      "cell_type": "code",
      "source": [
        "#Yeni metriklerle oluşturulan 2. modelin sonuçları:"
      ],
      "metadata": {
        "id": "xYh6OHp5kWN-"
      },
      "execution_count": null,
      "outputs": []
    },
    {
      "cell_type": "code",
      "source": [
        "test_accuracy2=model2.evaluate(X_test,y_test,verbose=0)\n",
        "print(test_accuracy2[1])"
      ],
      "metadata": {
        "colab": {
          "base_uri": "https://localhost:8080/"
        },
        "id": "RgPxMuKpj56N",
        "outputId": "585214ef-9c20-41e9-d52f-53d489976ec8"
      },
      "execution_count": 45,
      "outputs": [
        {
          "output_type": "stream",
          "name": "stdout",
          "text": [
            "0.8954198360443115\n"
          ]
        }
      ]
    },
    {
      "cell_type": "code",
      "source": [
        "train_loss_score2=model2.evaluate(X_train,y_train,verbose=0)\n",
        "test_loss_score2=model2.evaluate(X_test,y_test,verbose=0)\n",
        "print(train_loss_score2)\n",
        "print(test_loss_score2)"
      ],
      "metadata": {
        "colab": {
          "base_uri": "https://localhost:8080/"
        },
        "id": "R3Tx_A3BkKqB",
        "outputId": "c72c9b41-67bb-4379-cdb4-b15dd5467252"
      },
      "execution_count": 46,
      "outputs": [
        {
          "output_type": "stream",
          "name": "stdout",
          "text": [
            "[0.062189731746912, 0.9883835315704346]\n",
            "[0.37745264172554016, 0.8954198360443115]\n"
          ]
        }
      ]
    },
    {
      "cell_type": "code",
      "source": [
        "#Oluşturulan ilk CNN modeli ile parametrelerini değiştirdiğimiz CNN modelinin karşılaştırması yapılmıştır. 2. model daha iyi sonuçlar vermiştir."
      ],
      "metadata": {
        "id": "t2yt75jKjb9W"
      },
      "execution_count": null,
      "outputs": []
    },
    {
      "cell_type": "code",
      "execution_count": 42,
      "metadata": {
        "colab": {
          "base_uri": "https://localhost:8080/",
          "height": 683
        },
        "id": "t1ZAvTjapWlq",
        "outputId": "578d19a3-5b42-4eba-ee7f-0a054433c5d5"
      },
      "outputs": [
        {
          "output_type": "display_data",
          "data": {
            "text/plain": [
              "<Figure size 720x360 with 1 Axes>"
            ],
            "image/png": "[encoded data removed]"
          },
          "metadata": {
            "needs_background": "light"
          }
        },
        {
          "output_type": "display_data",
          "data": {
            "text/plain": [
              "<Figure size 720x360 with 1 Axes>"
            ],
            "image/png": "[encoded data removed]"
          },
          "metadata": {
            "needs_background": "light"
          }
        }
      ],
      "source": [
        "plt.figure(figsize=(10,5))\n",
        "plt.plot(results.history[\"loss\"], label=\"loss\")\n",
        "plt.plot(results.history[\"val_loss\"], label=\"val_loss\")\n",
        "plt.title('1. Model Loss')\n",
        "plt.xlabel(\"Epochs\")\n",
        "plt.ylabel(\"Loss\")\n",
        "plt.legend(['Train', 'Validation'], loc='upper right')\n",
        "plt.show()\n",
        "plt.figure(figsize=(10,5))\n",
        "plt.plot(results2.history[\"loss\"], label=\"loss\")\n",
        "plt.plot(results2.history[\"val_loss\"], label=\"val_loss\")\n",
        "plt.title('2. Model Loss')\n",
        "plt.xlabel(\"Epochs\")\n",
        "plt.ylabel(\"Loss\")\n",
        "plt.legend(['Train', 'Validation'], loc='upper right')\n",
        "plt.show()"
      ]
    },
    {
      "cell_type": "code",
      "execution_count": 43,
      "metadata": {
        "colab": {
          "base_uri": "https://localhost:8080/",
          "height": 683
        },
        "id": "_-iYFvHFjI4l",
        "outputId": "133bdc98-29ce-4ded-9042-ef2dc308d7e9"
      },
      "outputs": [
        {
          "output_type": "display_data",
          "data": {
            "text/plain": [
              "<Figure size 720x360 with 1 Axes>"
            ],
            "image/png": "[encoded data removed]"
          },
          "metadata": {
            "needs_background": "light"
          }
        },
        {
          "output_type": "display_data",
          "data": {
            "text/plain": [
              "<Figure size 720x360 with 1 Axes>"
            ],
            "image/png": "[encoded data removed]"
          },
          "metadata": {
            "needs_background": "light"
          }
        }
      ],
      "source": [
        "plt.figure(figsize=(10,5))\n",
        "plt.plot(results.history[\"accuracy\"], label=\"accuracy\")\n",
        "plt.plot(results.history[\"val_accuracy\"], label=\"val_accuracy\")\n",
        "plt.title('1. Model Accuracy')\n",
        "plt.xlabel(\"Epochs\")\n",
        "plt.ylabel(\"Accuracy\")\n",
        "plt.legend(['Train', 'Validation'], loc='upper left')\n",
        "plt.show()\n",
        "plt.figure(figsize=(10,5))\n",
        "plt.plot(results2.history[\"accuracy\"], label=\"accuracy\")\n",
        "plt.plot(results2.history[\"val_accuracy\"], label=\"val_accuracy\")\n",
        "plt.title('2. Model Accuracy')\n",
        "plt.xlabel(\"Epochs\")\n",
        "plt.ylabel(\"Accuracy\")\n",
        "plt.legend(['Train', 'Validation'], loc='upper left')\n",
        "plt.show()"
      ]
    }
  ],
  "metadata": {
    "accelerator": "GPU",
    "colab": {
      "collapsed_sections": [],
      "provenance": [],
      "authorship_tag": "ABX9TyNhyn2qLVj40+KGQV242VHl",
      "include_colab_link": true
    },
    "kernelspec": {
      "display_name": "Python 3",
      "name": "python3"
    },
    "language_info": {
      "name": "python"
    }
  },
  "nbformat": 4,
  "nbformat_minor": 0
}