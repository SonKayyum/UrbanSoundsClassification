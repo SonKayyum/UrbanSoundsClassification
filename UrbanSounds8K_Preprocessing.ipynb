{
  "cells": [
    {
      "cell_type": "markdown",
      "metadata": {
        "id": "view-in-github",
        "colab_type": "text"
      },
      "source": [
        "<a href=\"https://colab.research.google.com/github/SonKayyum/UrbanSoundsClassification/blob/main/UrbanSounds8K_Preprocessing.ipynb\" target=\"_parent\"><img src=\"https://colab.research.google.com/assets/colab-badge.svg\" alt=\"Open In Colab\"/></a>"
      ]
    },
    {
      "cell_type": "code",
      "execution_count": null,
      "metadata": {
        "colab": {
          "background_save": true
        },
        "id": "1jU-Y09TFmHl"
      },
      "outputs": [],
      "source": [
        "import pandas as pd\n",
        "import numpy as np\n",
        "import tensorflow as tf\n",
        "import librosa\n",
        "import librosa.display\n",
        "import matplotlib.pyplot as plt\n",
        "import cv2\n",
        "import random\n",
        "import time\n",
        "import os"
      ]
    },
    {
      "cell_type": "code",
      "execution_count": null,
      "metadata": {
        "id": "J8rkQYe_Fw1r"
      },
      "outputs": [],
      "source": [
        "from google.colab import drive\n",
        "drive.mount('/content/drive')"
      ]
    },
    {
      "cell_type": "code",
      "execution_count": null,
      "metadata": {
        "id": "HLtFPt_zFyMH"
      },
      "outputs": [],
      "source": [
        "#Drive'dan veri çekiyoruz ve bağlantıyı kontrol etmek için deneme bir .csv çektik."
      ]
    },
    {
      "cell_type": "code",
      "execution_count": null,
      "metadata": {
        "id": "d476WTIBF0OC"
      },
      "outputs": [],
      "source": [
        "df = pd.read_csv('/content/drive/MyDrive/UrbanSound8K.csv')\n",
        "df.head()"
      ]
    },
    {
      "cell_type": "code",
      "execution_count": null,
      "metadata": {
        "id": "uVYpjh8pF3Dy"
      },
      "outputs": [],
      "source": [
        "#Proje kapsamında verilen spektrogramlar zip dosyasından çıkartılıyor."
      ]
    },
    {
      "cell_type": "code",
      "execution_count": null,
      "metadata": {
        "id": "yD0vYIqnF4-8"
      },
      "outputs": [],
      "source": [
        " !unzip '/content/drive/MyDrive/spectrograms.zip'"
      ]
    },
    {
      "cell_type": "code",
      "execution_count": null,
      "metadata": {
        "id": "QSCMEwXmF7SM"
      },
      "outputs": [],
      "source": [
        "#Bu kısım ön işleme kısmını oluşturmaktadır. Grayscale dönüşümü ve resizing yapıldı. Ardından listeye eklendiler.\n",
        "#X_train, y_train, X_val, y_val, X_test ve y_test olmak üzere veri setleri oluşturuldu. Veri setleri drive'a kaydedildi."
      ]
    },
    {
      "cell_type": "code",
      "execution_count": null,
      "metadata": {
        "id": "yfZybTjFF9M_"
      },
      "outputs": [],
      "source": [
        "imgs= []\n",
        "labels= []\n",
        "for etiket in range(10):\n",
        "  img_array=os.listdir(\"/content/spectrograms/\"+str(etiket))  \n",
        "\n",
        "  for img_iter in range(len(img_array)):\n",
        "    img_gray=cv2.imread(\"/content/spectrograms/\"+str(etiket)+\"/\"+img_array[img_iter],0)\n",
        "\n",
        "    resized_gray = cv2.resize(img_gray, (100, 100), interpolation = cv2.INTER_AREA)\n",
        "\n",
        "    normalized_gray=resized_gray/255\n",
        "    \n",
        "    imgs.append(normalized_gray)\n",
        "    labels.append(etiket)\n",
        "\n",
        "dict_ = list(zip(imgs, labels))\n",
        "random.seed(10)\n",
        "random.shuffle(dict_)\n",
        "imgs, labels = zip(*dict_)\n",
        "\n",
        "imgs=np.array(imgs)\n",
        "labels=np.array(labels)"
      ]
    },
    {
      "cell_type": "code",
      "execution_count": null,
      "metadata": {
        "id": "c0gNBQ3bF_ta"
      },
      "outputs": [],
      "source": [
        "def train_valid_test(imgs, labels, train_percentage = 0.7, valid_percentage = 0.15):\n",
        "  size=len(imgs)\n",
        "\n",
        "  X_train=imgs[:int(train_percentage*size)]\n",
        "  X_val=imgs[int(train_percentage*size):int((train_percentage+valid_percentage)*size)]\n",
        "  X_test=imgs[int((train_percentage+valid_percentage)*size):]\n",
        "\n",
        "  y_train=labels[:int(train_percentage*size)]\n",
        "  y_val=labels[int(train_percentage*size):int((train_percentage+valid_percentage)*size)]\n",
        "  y_test=labels[int((train_percentage+valid_percentage)*size):]\n",
        "\n",
        "  return X_train, y_train, X_val, y_val, X_test, y_test"
      ]
    },
    {
      "cell_type": "code",
      "execution_count": null,
      "metadata": {
        "id": "h1E8l4WcGE8P"
      },
      "outputs": [],
      "source": [
        "X_train, y_train, X_val, y_val, X_test, y_test= train_valid_test(imgs, labels)"
      ]
    },
    {
      "cell_type": "code",
      "execution_count": null,
      "metadata": {
        "id": "D-X2UdwnGJVR"
      },
      "outputs": [],
      "source": [
        "print(f\"X_train: {len(X_train)}\")\n",
        "print(f\"X_val: {len(X_val)}\")\n",
        "print(f\"X_test: {len(X_test)}\")\n",
        "print(f\"y_train: {len(y_train)}\")\n",
        "print(f\"y_val: {len(y_val)}\")\n",
        "print(f\"y_test: {len(y_test)}\")"
      ]
    },
    {
      "cell_type": "code",
      "execution_count": null,
      "metadata": {
        "id": "XEH1dlX2GLRX"
      },
      "outputs": [],
      "source": [
        "np.save('/content/drive/MyDrive/X_train.npy', X_train)\n",
        "np.save('/content/drive/MyDrive/X_val.npy', X_val)\n",
        "np.save('/content/drive/MyDrive/X_test.npy', X_test)\n",
        "np.save('/content/drive/MyDrive/y_train.npy', y_train)\n",
        "np.save('/content/drive/MyDrive/y_val.npy', y_val)\n",
        "np.save('/content/drive/MyDrive/y_test.npy', y_test)"
      ]
    }
  ],
  "metadata": {
    "colab": {
      "provenance": [],
      "authorship_tag": "ABX9TyOyj2O9thfPB8fmeTReMxxa",
      "include_colab_link": true
    },
    "kernelspec": {
      "display_name": "Python 3",
      "name": "python3"
    },
    "language_info": {
      "name": "python"
    }
  },
  "nbformat": 4,
  "nbformat_minor": 0
}